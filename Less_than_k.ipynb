{
 "cells": [
  {
   "cell_type": "markdown",
   "id": "9df40717-7849-4ad5-a85c-89f7e8139cc2",
   "metadata": {},
   "source": [
    "<h1> Importing Qiskit tools </h1>"
   ]
  },
  {
   "cell_type": "code",
   "execution_count": null,
   "id": "d0be3ee1-ca38-4a61-b57b-d9200ffc751c",
   "metadata": {},
   "outputs": [],
   "source": [
    "from qiskit import QuantumCircuit, Aer, execute\n",
    "from qiskit import QuantumRegister, ClassicalRegister"
   ]
  },
  {
   "cell_type": "markdown",
   "id": "d41229ee-173e-4752-bb83-94642cbed73a",
   "metadata": {},
   "source": [
    "<h3> Function to convert integer to binary string </h3>\n",
    "<h4> Padding is done so that both the integers have same string length and thus occupy same number of qubits </h4>"
   ]
  },
  {
   "cell_type": "code",
   "execution_count": null,
   "id": "a346ba34-eb80-4d43-a79f-1f4c0141b0e4",
   "metadata": {},
   "outputs": [],
   "source": [
    "def DtoB(num, num_bits):\n",
    "    binary_str = format(num, '0' + str(num_bits) + 'b')\n",
    "    return binary_str"
   ]
  },
  {
   "cell_type": "markdown",
   "id": "4fce3a17-39d5-4288-adb6-c10fb7ba7fe6",
   "metadata": {},
   "source": [
    "<h3> One-bit comparator function </h3>"
   ]
  },
  {
   "cell_type": "code",
   "execution_count": null,
   "id": "fe323fd8-2cb7-49c6-9a3c-30456f577361",
   "metadata": {},
   "outputs": [],
   "source": [
    "def apply(qc, a, b, r0, r1):\n",
    "    qc.x(b)\n",
    "    qc.ccx(a, b, r0)\n",
    "    qc.x(a)\n",
    "    qc.x(b)\n",
    "    qc.ccx(a, b, r1)\n",
    "    qc.x(a)"
   ]
  },
  {
   "cell_type": "markdown",
   "id": "5cabc64a-3ea5-4ed0-8846-761e39f956b5",
   "metadata": {},
   "source": [
    "<h3> Quantum Bit String Comparator Function </h3>"
   ]
  },
  {
   "cell_type": "code",
   "execution_count": null,
   "id": "778f0b26-5510-4516-ab47-da1bda84c51d",
   "metadata": {},
   "outputs": [],
   "source": [
    "def QBSC(num , k , num_bits, flist):\n",
    "    q = QuantumRegister(2*(n + 1), 'qr')\n",
    "    c_reg = ClassicalRegister(2, 'c')\n",
    "    qc = QuantumCircuit(q, c_reg)\n",
    "    r0 = q[2 * n]\n",
    "    r1 = q[2 * n + 1]\n",
    "    \n",
    "    num_binary = DtoB(num, n)\n",
    "    k_binary = DtoB(k, n)\n",
    "    for i in range(n):\n",
    "        a_reg =[q[i] for i in range(n)]  \n",
    "        b_reg = [q[n + i] for i in range(n)]\n",
    "        if(k_binary[i] == '1'):\n",
    "            qc.x(i)\n",
    "        if(num_binary[i] == '1'):\n",
    "               qc.x(n+i)\n",
    "    \n",
    "    flag = 0 \n",
    "    \n",
    "    for i in range(n):\n",
    "        qc.barrier()\n",
    "        apply(qc, a_reg[i],b_reg[i], r0, r1)\n",
    "        qc.measure(r0, 0)\n",
    "        qc.measure(r1, 1)\n",
    "        qc.reset(r0) \n",
    "        qc.reset(r1)\n",
    "        qc.barrier()\n",
    "        backend = Aer.get_backend('qasm_simulator')\n",
    "        job = execute(qc, backend, shots=10)\n",
    "        result = job.result().get_counts()\n",
    "        c1 = result.get('00')\n",
    "        c2 = result.get('01')\n",
    "        c3 = result.get('10')\n",
    "        c4 = result.get('11')\n",
    "        if c1 is not None:\n",
    "            flag += 1\n",
    "            continue\n",
    "        elif c2 is not None:\n",
    "            # print(k,\" is greater than\" , num)\n",
    "            flist.append(num)\n",
    "            break\n",
    "        elif c3 is not None:\n",
    "            # print(k,\" is smaller than\", num)\n",
    "            # flist.append(num)\n",
    "            break\n",
    "        elif c4 is not None:\n",
    "            # print(k ,\" is smaller than\",num)\n",
    "            # flist.append(num)\n",
    "            break\n",
    "\n",
    "    if(flag == n):\n",
    "        print(num ,\"is equal to\", k)"
   ]
  },
  {
   "cell_type": "code",
   "execution_count": null,
   "id": "d73de40a-4a31-4890-a68e-0041f1d0357e",
   "metadata": {},
   "outputs": [],
   "source": [
    "a = 10\n",
    "list = [4 , 45 , 7 , 9 , 2 ]\n",
    "max_list = max(list)\n",
    "n = max(a,max_list).bit_length()\n",
    "less_than_k_list = []\n",
    "for num in list:\n",
    "    QBSC(num , a , n, less_than_k_list )\n",
    "\n",
    "print(\"Numbers less than\", a, \":\", less_than_k_list)"
   ]
  },
  {
   "cell_type": "markdown",
   "id": "265a9472-d2e9-4b33-a953-fefbe0dd3abf",
   "metadata": {},
   "source": [
    "<h3> Circuit Diagram for QBSC on First element of list and a </h3>"
   ]
  },
  {
   "cell_type": "code",
   "execution_count": null,
   "id": "b71c0d46-95e9-47c1-8d81-718582aca46d",
   "metadata": {},
   "outputs": [],
   "source": [
    "q = QuantumRegister(2*(n + 1), 'qr')\n",
    "c_reg = ClassicalRegister(2, 'c')\n",
    "qc = QuantumCircuit(q, c_reg)\n",
    "r0 = q[2 * n]\n",
    "r1 = q[2 * n + 1]\n",
    "\n",
    "num = list[0]\n",
    "k = a\n",
    "num_binary = DtoB(num, n)\n",
    "k_binary = DtoB(k, n)\n",
    "for i in range(n):\n",
    "    a_reg =[q[i] for i in range(n)]  \n",
    "    b_reg = [q[n + i] for i in range(n)]\n",
    "    if(k_binary[i] == '1'):\n",
    "        qc.x(i)\n",
    "    if(num_binary[i] == '1'):\n",
    "           qc.x(n+i)\n",
    "\n",
    "\n",
    "for i in range(n):\n",
    "    qc.barrier()\n",
    "    apply(qc, a_reg[i],b_reg[i], r0, r1)\n",
    "    qc.measure(r0, 0)\n",
    "    qc.measure(r1, 1)\n",
    "    qc.reset(r0) \n",
    "    qc.reset(r1)\n",
    "    qc.barrier()\n",
    "qc.draw('mpl')"
   ]
  },
  {
   "cell_type": "markdown",
   "id": "76c7cb33-a133-41e4-9d32-05bf7749c3ab",
   "metadata": {},
   "source": [
    "<h2> Reference Paper :</h2>"
   ]
  },
  {
   "cell_type": "markdown",
   "id": "be89362f-e82b-4b0f-a801-c8338408ae85",
   "metadata": {},
   "source": [
    "<h3>A Generalized Space-Efficient Algorithm for Quantum Bit String Comparators by Khuram Shahzad and Omar Usman Khan\n",
    "</h3> "
   ]
  },
  {
   "cell_type": "markdown",
   "id": "87fecb5f-c7fc-4127-869a-92cd6803bc97",
   "metadata": {},
   "source": []
  },
  {
   "cell_type": "markdown",
   "id": "213e715c-1db2-4863-b22d-092a22aa944a",
   "metadata": {},
   "source": [
    ", r0, and r1.</h4>"
   ]
  },
  {
   "cell_type": "code",
   "execution_count": null,
   "id": "0d8a6fd4-37af-474b-ae51-f8fafb6657d3",
   "metadata": {},
   "outputs": [],
   "source": []
  }
 ],
 "metadata": {
  "kernelspec": {
   "display_name": "Python 3 (ipykernel)",
   "language": "python",
   "name": "python3"
  },
  "language_info": {
   "codemirror_mode": {
    "name": "ipython",
    "version": 3
   },
   "file_extension": ".py",
   "mimetype": "text/x-python",
   "name": "python",
   "nbconvert_exporter": "python",
   "pygments_lexer": "ipython3",
   "version": "3.11.5"
  }
 },
 "nbformat": 4,
 "nbformat_minor": 5
}
